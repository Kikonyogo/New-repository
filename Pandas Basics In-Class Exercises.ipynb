{
 "cells": [
  {
   "cell_type": "markdown",
   "metadata": {
    "collapsed": true
   },
   "source": [
    "# `Pandas` Basics : In-Class Exercises"
   ]
  },
  {
   "cell_type": "markdown",
   "metadata": {},
   "source": [
    "Author: Amit Deokar, Ph.D.\n",
    "\n",
    "Created to supplement Chapter 5 (Getting Started with Pandas) and and Chapter 6 (Data Loading) \"Pandas for Data Analysis\" book by Wes McKinney.\n",
    "\n",
    "## What is Pandas?\n",
    "- One of the key data packages for scientific computing in Python.\n",
    "- Adopts significant parts of NumPy's array-based computing, especially array-based functions.\n",
    "- Biggest difference between NumPy and Pandas:\n",
    "    - Pandas is designed for working with tabular or **heterogeneous** data types.\n",
    "    - NumPy, on the other hand, is designed to work with **homogeneous** numerical array data."
   ]
  },
  {
   "cell_type": "code",
   "execution_count": null,
   "metadata": {},
   "outputs": [],
   "source": [
    "import numpy as np\n",
    "import scipy as sc\n",
    "np.random.seed(12345)\n",
    "np.set_printoptions(precision=4, suppress=True)"
   ]
  },
  {
   "cell_type": "code",
   "execution_count": null,
   "metadata": {},
   "outputs": [],
   "source": [
    "import matplotlib.pyplot as plt\n",
    "plt.rc('figure', figsize=(10, 6))\n",
    "%matplotlib inline"
   ]
  },
  {
   "cell_type": "code",
   "execution_count": null,
   "metadata": {},
   "outputs": [],
   "source": [
    "import pandas as pd\n",
    "from pandas import Series, DataFrame"
   ]
  },
  {
   "cell_type": "code",
   "execution_count": null,
   "metadata": {},
   "outputs": [],
   "source": [
    "PREVIOUS_MAX_ROWS = pd.options.display.max_rows\n",
    "pd.options.display.max_rows = 20\n",
    "np.set_printoptions(precision=4, suppress=True)"
   ]
  },
  {
   "cell_type": "markdown",
   "metadata": {},
   "source": [
    "## What is Series and DataFrame?\n",
    "- `Series` and `DataFrame` are two data structures introduced by `Pandas` package.\n",
    "- Both these data structures are built on top of NumPy (so really fast!)\n",
    "\n",
    "### Series\n",
    "- One-dimensional array-like object, similar to column in a spreadsheet or a relational database table, with an associated index from 0 to N."
   ]
  },
  {
   "cell_type": "markdown",
   "metadata": {},
   "source": [
    "## Creating Series from Python lists"
   ]
  },
  {
   "cell_type": "markdown",
   "metadata": {},
   "source": [
    "## Exercise 1\n",
    "\n",
    "(a) Create a Series with data values as the following list: `[121, 67, 70, 56, 42, 42, np.nan]` and index labels as the following list: `['United States', 'Great Britain', 'China', 'Russia', 'Germany', 'France', 'Japan']`\n",
    "\n",
    "(Note: This sample Series contains the total number of medals won in Rio 2016 Olympics)\n",
    "\n",
    "(b) Retrieve only the values of the above Series object.\n",
    "\n",
    "(c) Retrieve only the index of the above Series object.\n",
    "\n",
    "(d) Retrieve the number of medals won by Germany in the 2016 Olympics.\n",
    "\n",
    "(e) Display the countries that received more than 50 total medals."
   ]
  },
  {
   "cell_type": "code",
   "execution_count": null,
   "metadata": {},
   "outputs": [],
   "source": []
  },
  {
   "cell_type": "markdown",
   "metadata": {},
   "source": [
    "## Creating Series from Python dict"
   ]
  },
  {
   "cell_type": "markdown",
   "metadata": {},
   "source": [
    "## Exercise 2\n",
    "\n",
    "(a) Create the following dictionary: `{'United States':121, 'Great Britain':67, 'China':70, 'Russia':56, 'Germany':42, 'France':42, 'Japan':np.nan}`. Now create a Series object called `series1` using this dictionary and display it.\n",
    "\n",
    "**Thought exercise**: Why is the index in the Series object created in part(a) different than that of the Series object created earlier in Exercise 1? How can you override this?\n",
    "\n",
    "(b) Create a list called `countries` as follows: `['United States', 'Great Britain', 'China', 'Russia', 'Germany', 'France', 'Japan']`. Pass this as an index when creating a Series called `series2` from the dict object as done in part (a). Display the new Series object.\n",
    "\n",
    "(c) Check for missing values in the `series2` Series created in part (b). **Hint**: Use `pd.isnull()` and `pd.notnull()` functions in pandas .\n",
    "\n",
    "(d) Now check for missing values again using instance methods `isnull()` and `notnull()`.\n"
   ]
  },
  {
   "cell_type": "code",
   "execution_count": null,
   "metadata": {},
   "outputs": [],
   "source": []
  },
  {
   "cell_type": "markdown",
   "metadata": {},
   "source": [
    "## Exercise 3\n",
    "\n",
    "(a) Create the following dictionary: `{'United States':100, 'Great Britain':50, 'Russia':50}`. Now create a Series object called `series3` using this dictionary and display it.\n",
    "\n",
    "(b) Join `series2` and `series3`, and display the result.\n",
    "\n",
    "(c) Assign a new index to `series3` using the list: `['US', 'UK', 'USSR']`. Display the Series.\n",
    "\n",
    "(d) Name the `series3` as `medalcount` and its index as `country`. Display the Series."
   ]
  },
  {
   "cell_type": "code",
   "execution_count": null,
   "metadata": {},
   "outputs": [],
   "source": []
  },
  {
   "cell_type": "markdown",
   "metadata": {},
   "source": [
    "### DataFrame\n",
    "- Two-dimensional object similar to a spreadsheet or an SQL table.\n"
   ]
  },
  {
   "cell_type": "markdown",
   "metadata": {},
   "source": [
    "## Creating a DataFrame from a dict of equal-length lists or NumPy arrays"
   ]
  },
  {
   "cell_type": "markdown",
   "metadata": {},
   "source": [
    "## Exercise 4\n",
    "\n",
    "(a) Create a DataFrame `df1` using a dict with `country` and `medal` as the keys and the two lists as corresponding values: `['United States', 'Great Britain', 'China', 'Russia', 'Germany', 'France', 'Japan']` and `[121, 67, 70, 56, 42, 42, np.nan]`.\n",
    "\n",
    "(b) Show the head of the DataFrame `df1`.\n",
    "\n",
    "(c) Create another DataFrame `df2` using the above dict, but with columns in the order `['medal', 'country', 'gold']`. Display `df2`. See how `gold` column is filled with missing values.\n",
    "\n",
    "(d) Retrieve the column `country` from the dataframe `df2` using the dict-like notation. Check the type of the column.\n",
    "\n",
    "(e) Retrieve the column `country` from the dataframe `df2` using attribute notation.\n",
    "\n",
    "(f) Create yet another DataFrame `df3` using a different approach. \n",
    "\n",
    "First create 2 lists `country` and `medal` as follows: \n",
    "- `country = ['United States', 'Great Britain', 'China', 'Russia', 'Germany', 'France', 'Japan']`\n",
    "- `medal = [121, 67, 70, 56, 42, 42, np.nan]`\n",
    "\n",
    "Second, create a list of column labels called `labels_list`: `['country', 'medal']`. Third, create another list `columns_list` which has 2 list items `country` and `medal`: `[country, medal]`. Next, create a dict using zipped lists `labels_list` and `columns_list`, and finally make a DataFrame `df3` out of it. Then assign `country` as the index of the DataFrame. Display the dataframe `df3`.\n",
    "\n",
    "(g) Practice again. Create another DataFrame with 3 elements using the approach in part (f)."
   ]
  },
  {
   "cell_type": "code",
   "execution_count": null,
   "metadata": {},
   "outputs": [],
   "source": []
  },
  {
   "cell_type": "markdown",
   "metadata": {},
   "source": [
    "## Creating a DataFrame by loading data from files (e.g., CSV, etc.)\n",
    "\n",
    "Refer to [Pandas documentation on IO tools](https://pandas.pydata.org/pandas-docs/stable/io.html)\n",
    "- `read_table()` uses tab(`'\\t'`) as the default delimiter.\n",
    "- `read_csv()` uses comma as the default delimiter.\n",
    "- `read_excel()`, `read_json()`, etc. are other data loading functions."
   ]
  },
  {
   "cell_type": "markdown",
   "metadata": {},
   "source": [
    "## Exercise 5\n",
    "\n",
    "(a) Explore the data at `data/cars.csv` using the `!cat path/file_name` command. Note that this loads the entire dataset in memory. Not always recommended.\n",
    "\n",
    "(b) Explore the first 10 rows of the data at `data/cars.csv` using the `!head path/file_name` command.\n",
    "\n",
    "(c) Now, load the data into a pandas DataFrame called `cars` using the pandas `read_csv()` function.\n",
    "\n",
    "(d) Conduct the basic exploration using the following functions:\n",
    "- `cars.head()`\n",
    "\n",
    "(e) Add a column called `country` and assign it a value 'USA' throughout the dataframe.\n",
    "\n",
    "(f) Delete the column `country`."
   ]
  },
  {
   "cell_type": "code",
   "execution_count": null,
   "metadata": {},
   "outputs": [],
   "source": []
  },
  {
   "cell_type": "markdown",
   "metadata": {},
   "source": [
    "## Exercise 6 \n",
    "\n",
    "(a) Load the data file `data/tips.csv` into a pandas DataFrame called `tips_df` using the pandas `read_table()` function. Check the first five rows.\n",
    "\n",
    "(b) Create a new dataframe called `tips` by randomly sampling 6 records from the dataframe `tips_df`. Refer to the `sample()` function [documentation](https://pandas.pydata.org/pandas-docs/stable/generated/pandas.DataFrame.sample.html).\n",
    "\n",
    "(c) Add a new column to `tips` called `idx` as a list `['one', 'two', 'three', 'four', 'five', 'six']` and then later assign it as the index of `tips` dataframe. Display the dataframe.\n",
    "\n",
    "(d) Create a new Series called `kids` as `Series([1, 2, 1], index = ['two', 'five', 'six'])`. Assign the series as a new column in the dataframe. \n",
    "\n",
    "(e) List the various columns in the dataframe using the `columns` attribute of the dataframe. Also, check the various column datatypes in the dataframe.\n",
    "\n",
    "(f) Transpose the dataframe `tips`.\n",
    "\n",
    "(g) Check the name of the dataframe index. If there isn't one, assign a new name.\n",
    "\n",
    "(h) Check the name of the dataframe columns. If there isn't one, assign a new name.\n",
    "\n",
    "(i) List the rows in the dataframe using the `values` attribute of the dataframe. Check the datatype of the result.\n",
    "\n",
    "(j) Check if `'time'` is one of the columns in the dataframe. Use set-like operation `in`.\n",
    "\n",
    "(k) Check if `'six'` is one of the index values in the dataframe. Use set-like operation `in`.\n",
    "\n",
    "(l) Check if `'seven'` is one of the index values in the dataframe. Use set-like operation `in`."
   ]
  },
  {
   "cell_type": "code",
   "execution_count": null,
   "metadata": {},
   "outputs": [],
   "source": []
  },
  {
   "cell_type": "markdown",
   "metadata": {},
   "source": [
    "## Exercise 7\n",
    "\n",
    "(a) Add a new row with the following values `[18.0, 4.0, 'Male', 'No', 'Mon', 'Lunch', 3, 1.0, True]` to the `tips` dataframe with a duplicate index value `six`.\n",
    "\n",
    "(b) Select all occurences of the index `six`. **Hint**: Use the `loc` attribute for retrieving rows by position.\n",
    "\n",
    "(c) Reset the index for the dataframe. **Hint**: Use `reset_index`.\n",
    "\n",
    "(d) Reindex using `day` column. **Hint**: Use `set_index`.\n",
    "\n",
    "(e) Now, revert back to using the `index` column as the index.\n",
    "\n",
    "(f) Drop the newly added row from the `tips` dataframe with duplicate index value `six`. **Hint**: First, reset the index, then use `drop_duplicates` function and reassign the index back to normal.\n",
    "\n",
    "(g) Drop the row with index value `six`. **Hint**: Use `drop`.\n",
    "\n",
    "(h) Drop the columns `kids` and `kidcheck`.\n",
    "\n",
    "(i) Drop the column `size`."
   ]
  },
  {
   "cell_type": "code",
   "execution_count": null,
   "metadata": {},
   "outputs": [],
   "source": []
  },
  {
   "cell_type": "markdown",
   "metadata": {},
   "source": [
    "## Exercise 8\n",
    "\n",
    "(a) Select two columns `tip` and `sex` from the dataframe.\n",
    "\n",
    "(b) Select one column `sex` from the dataframe.\n",
    "\n",
    "(c) Select the first 3 rows using slicing notation.\n",
    "\n",
    "(d) Select the first 4 rows using the index labels. **Note**: Slicing with index labels behaves differently than normal Python slicing.\n",
    "\n",
    "(e) Select the rows where the value of `sex` is Male. **Hint**: Use boolean array.\n",
    "\n",
    "(f) Select the rows where `tip` is greater than 2.\n",
    "\n",
    "(g) Select the column `smoker` where the row where `tip` is greater than 2. **Hint**: Use `loc`.\n",
    "\n",
    "(h) Select the columns `smoker` and `total_bill` where the row where `tip` is greater than 3. **Hint**: Use `loc`.\n",
    "\n",
    "(i) For the rows where `sex` is Male, assign the value of `tip` to 5.\n",
    "\n",
    "(j) Check what happens when you compare the dataframe with the following scalar boolean expression. `tips < 2`. Intrepret what is happening.\n",
    "\n",
    "(k) Select the third and second columns (in that order) for the third row in the dataframe using integer indexing. **Hint**: Use `iloc`.\n",
    "\n",
    "(l) Select the third and second columns (in that order) for the third and fifth rows (in that order) in the dataframe using integer indexing. **Hint**: Use `iloc`.\n",
    "\n",
    "(m) Select all the rows and the third and second columns (in that order) using integer indexing for cases where the `tip` value is greater than 3. **Hint**: Use `iloc`."
   ]
  },
  {
   "cell_type": "code",
   "execution_count": null,
   "metadata": {},
   "outputs": [],
   "source": []
  },
  {
   "cell_type": "markdown",
   "metadata": {},
   "source": [
    "## Exercise 9\n",
    "\n",
    "(a) Create two sample dataframes with 6 records `tips1` and `tips2` from `tips_df` dataframe. `tips_df.sample(n = 6)`.\n",
    "\n",
    "(b) Append `tips2` to `tips1`.\n",
    "\n",
    "(c) Assign the value `np.nan` to all the records in `tips1` where `smoker` is `Male`.\n",
    "\n",
    "(d) Use forward fill to fill missing values in the `smoker` column in `tips1`. **Hint**: Use `fillna`.\n"
   ]
  },
  {
   "cell_type": "code",
   "execution_count": null,
   "metadata": {},
   "outputs": [],
   "source": []
  },
  {
   "cell_type": "markdown",
   "metadata": {},
   "source": [
    "## Exercise 10\n",
    "\n",
    "(a) Find the descriptive statistics for the dataframe `tips1`. Notice how the statistics are reported only for numeric columns.\n",
    "\n",
    "(b) Create a new dataframe `tips3` that only contains columns with numeric values from the dataframe `tips1`. Find the descriptive statistics for `tips3`.\n",
    "\n",
    "(c) Compute the sum of all rows in each column in `tips3`.\n",
    "\n",
    "(d) Compute the sum of all columns for each row in `tips3`.\n",
    "\n",
    "(e) Compute the cumulative sums for values in each row for every column in `tips3`.\n",
    "\n",
    "(f) Compute the correlation and covariance of the columns in `tips3`.\n",
    "\n",
    "(g) Use the `corrwith` DataFrame method to find the correlation of all the columns with the the column `total_bill`."
   ]
  },
  {
   "cell_type": "code",
   "execution_count": null,
   "metadata": {},
   "outputs": [],
   "source": []
  },
  {
   "cell_type": "markdown",
   "metadata": {},
   "source": [
    "## Exercise 11\n",
    "\n",
    "(a) Create a new dataframe `tips4` that only contains columns with non-numeric values from the dataframe `tips1`. Describe `tips4` data. \n",
    "\n",
    "(b) Get the counts of unique values of the days in `tips4`.\n",
    "\n",
    "(c) Create a boolean array called `mask` that only retrieves records in `tips4` that have day values as `Thur` or `Sat`."
   ]
  },
  {
   "cell_type": "code",
   "execution_count": null,
   "metadata": {},
   "outputs": [],
   "source": []
  }
 ],
 "metadata": {
  "kernelspec": {
   "display_name": "Python 3",
   "language": "python",
   "name": "python3"
  },
  "language_info": {
   "codemirror_mode": {
    "name": "ipython",
    "version": 3
   },
   "file_extension": ".py",
   "mimetype": "text/x-python",
   "name": "python",
   "nbconvert_exporter": "python",
   "pygments_lexer": "ipython3",
   "version": "3.6.3"
  }
 },
 "nbformat": 4,
 "nbformat_minor": 2
}
