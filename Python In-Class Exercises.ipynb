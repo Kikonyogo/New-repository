{
 "cells": [
  {
   "cell_type": "markdown",
   "metadata": {
    "collapsed": true
   },
   "source": [
    "# Python In-Class Exercises"
   ]
  },
  {
   "cell_type": "markdown",
   "metadata": {},
   "source": [
    "Author: Amit Deokar, Ph.D.\n",
    "\n",
    "Created to supplement Chapter 2 (Python Language Basics) and Chapter 3 (Built-in Data Structures) in \"Pandas for Data Analysis\" book by Wes McKinney.\n",
    "\n",
    "## Data Structures and Sequences\n",
    "- Tuple\n",
    "- List\n",
    "- Dict\n",
    "- Set\n",
    "\n",
    "[Python Tutorial on Data Structures](https://docs.python.org/3/tutorial/datastructures.html)\n",
    "\n",
    "> ### When to Use List vs. Tuples vs. Set vs. Dictionary\n",
    "> - **Tuple**: Use when you need an ordered sequence of heterogeneous collections whose values need not be changed later in the program.\n",
    "> - **List**: Use when you need an ordered sequence of homogenous collections, whose values can be changed later in the program.\n",
    "> - **Dictionary**: It is ideal for use when you need to relate values with keys, in order to look them up efficiently using a key.\n",
    "> - **Set**: It is ideal for use when you don’t have to store duplicates and you are not concerned about the order or the items. You just want to know whether a particular value already exists or not.\n",
    "\n",
    "> (Reference: \"Mastering Machine Learning With Python in Six Steps: A Practical Implementation Guide to Predictive Data Analytics Using Python\" by Manohar Swamynathan)"
   ]
  },
  {
   "cell_type": "markdown",
   "metadata": {},
   "source": [
    "# Tuple\n",
    "\n",
    "- Fixed-length, **immutable** sequence"
   ]
  },
  {
   "cell_type": "markdown",
   "metadata": {},
   "source": [
    "# Exercise 1\n",
    "\n",
    "(a) Create the following tuple and print it: `(1, 'data mining', 3.0, [10, 20])`\n",
    "\n",
    "(b) Append the following item `30` to the above tuple, and display the tuple. \n",
    "\n",
    "(c) Count the number of occurences of 3 in the tuple in part (b).\n",
    "\n",
    "(d) Unpack the tuple in part (b) by assigning it to variables, and display each variable.\n",
    "\n",
    "**Thought question**: Why can you update the item (in place) in the tuple when a tuple is immutable?\n",
    "\n",
    "(e) Convert the following string `machine learning` into a tuple.\n",
    "\n",
    "(f) Convert the following list  `[1, 2, 3, 4]` into a tuple."
   ]
  },
  {
   "cell_type": "code",
   "execution_count": null,
   "metadata": {},
   "outputs": [],
   "source": []
  },
  {
   "cell_type": "markdown",
   "metadata": {},
   "source": [
    "# List\n",
    "- variable-length\n",
    "- contents can be modified in-place"
   ]
  },
  {
   "cell_type": "markdown",
   "metadata": {},
   "source": [
    "# Exercise 2\n",
    "\n",
    "(a) Create a list of following elements: `[10, 100, None, 1000, 'numbers']`.\n",
    "\n",
    "(b) Create a tuple `(100, 500, 'currency')` and then convert it to a list.\n",
    "\n",
    "(c) Append  `2000`, `2000`, and `5000`  at the end of the list in part (b) without using `append()`. Display it.\n",
    "\n",
    "(d) Insert `3000` before `5000` in the list in part (c). Display the resultant list.\n",
    "\n",
    "(e) Remove `'currency'` from the list in part (d). Display the resultant list.\n",
    "\n",
    "(f) Remove the first occurence of `2000` from the list in part (e). Display the resultant list.\n",
    "\n",
    "(g) Select last 2 elements of the list in part (f) using the slice notation.\n",
    "\n",
    "(h) Select last 2 elements of the list in part (f) using the slice notation with negative indices."
   ]
  },
  {
   "cell_type": "code",
   "execution_count": null,
   "metadata": {},
   "outputs": [],
   "source": []
  },
  {
   "cell_type": "markdown",
   "metadata": {},
   "source": [
    "# Exercise 3\n",
    "\n",
    "(a) Create a list of following elements: `['London', 'Paris', 'New Delhi', 'New York', 'Sydney']`. Use `enumerate()` to display each element in the list in upper case format.\n",
    "\n",
    "(b) Display the list in part (a) in reverse sequence in one statement.\n",
    "\n",
    "(c) Create another list of following elements: `['UK', 'France', 'India', 'USA', 'Australia']`. Now, create a list of tuples by pairing corresponding elements in the list in part (a) and this new list.\n",
    "\n",
    "(d) Consider the following list: `[('United States', 121), ('Great Britain', 67), ('China', 70), ('Russia', 56), ('Germany',42), ('France', 42)]` which shows the total number of medals won in Rio 2016 Olympics by some countries. Assign a variable `countries` to the list of countries, and another variable `medals` to a list of number of medals."
   ]
  },
  {
   "cell_type": "code",
   "execution_count": null,
   "metadata": {},
   "outputs": [],
   "source": []
  },
  {
   "cell_type": "markdown",
   "metadata": {},
   "source": [
    "# Exercise 4\n",
    "\n",
    "(a) Create a list of following elements: `[100, 500, 2000, 2000, 3000, 5000]`. Remove both occurences of `2000` from the list in part (e) in a single statement. Display the resultant list.\n",
    "\n",
    "**Hint**: Refer to [List Comprehension](https://docs.python.org/3/tutorial/datastructures.html#list-comprehensions)\n",
    "\n",
    "(b) Create a list of following elements: `['London', 'Paris', 'New Delhi', 'New York', 'Sydney']`. Use list comprehension to convert each element in the list to upper case format, in a single statement."
   ]
  },
  {
   "cell_type": "code",
   "execution_count": null,
   "metadata": {},
   "outputs": [],
   "source": []
  },
  {
   "cell_type": "markdown",
   "metadata": {},
   "source": [
    "# Dict\n",
    "- Also known as **hash map** or **associative array**. \n",
    "- Flexibly sized collection of key-value pairs, where key and value are Python objects. \n",
    "- One approach for creating one is to use curly braces {} and colons to separate keys and values.\n",
    "- While the values of a dict can be any Python object, the keys generally must be immutable, i.e., hashable."
   ]
  },
  {
   "cell_type": "markdown",
   "metadata": {},
   "source": [
    "# Exercise 5\n",
    "\n",
    "(a) Create a list of following elements: `['London', 'Paris', 'New Delhi', 'New York', 'Sydney']`. Create a dictionary by using the index of each element as the key and the element itself as the value. (Hint: Try dictionary comprehension using `enumerate`.)\n",
    "\n",
    "(b) Display the keys and values of the above dictionary as individual lists.\n",
    "\n",
    "(c) Delete `New York` from the dictionary, using its key. Display the resultant dictionary.\n",
    "\n",
    "(d) Create the following lists: `medals` = `[121, 67, 70, 56, 42, 42]` and `countries` = `['United States', 'Great Britain', 'China', 'Russia', 'Germany', 'France']`. Now create a dictionary called `mapping` using dictionary comprehension and `zip` using the two lists `medals` and `countries`, where countries should be the key and medals should be the values in this dictionary.\n",
    "\n",
    "(e) Check if `China` is in the dictionary `mapping`.\n",
    "\n",
    "(f) Given a list of countries: `['United States', 'Great Britain', 'China', 'Russia', 'Germany', 'France']`, create a dictionary by using the strings as the keys and the length of the strings as the values of the dictionary.\n",
    "\n",
    "(g) Add another entry to the dictionary in part (f) with key `Japan` and length of the key as the value.\n",
    "\n",
    "(h) Create an empty dictionary. Add an element to it with key `1` and defaulty value as `'NA'`. Use `setdefault` method. Repeat this to another element with key `2` in the same manner. Display the dictionary."
   ]
  },
  {
   "cell_type": "code",
   "execution_count": null,
   "metadata": {},
   "outputs": [],
   "source": []
  },
  {
   "cell_type": "markdown",
   "metadata": {},
   "source": [
    "# Set\n",
    "- an unordered collection of unique elements\n",
    "- think of them like dicts, but keys only, no values\n",
    "- can be created in two ways: via the set function or via a set literal with curly braces\n",
    "- like dicts, set elements generally must be immutable. "
   ]
  },
  {
   "cell_type": "markdown",
   "metadata": {},
   "source": [
    "# Exercise 6\n",
    "\n",
    "(a) Create a set `set1` consisting of the following items: `100, 200, 300, 400, 500, 500, 600, 700, 800, 900, 'some string'`. Now display and check the elements of the set after creating it. What do you observe?\n",
    "\n",
    "(b) Create another set `set2` consisting of the following items: `800, 900, 1000, 1100, 1200`. \n",
    "\n",
    "(c) Drop the item `'some string'` from `set1`.\n",
    "\n",
    "(d) Find the intersection of `set1` and `set2` and assign it to `set1`.\n",
    "\n",
    "(e) Check if `set1` is a subset of `set2`."
   ]
  },
  {
   "cell_type": "code",
   "execution_count": null,
   "metadata": {},
   "outputs": [],
   "source": []
  },
  {
   "cell_type": "markdown",
   "metadata": {},
   "source": [
    "# Exercise 7\n",
    "\n",
    "(a) Create a list `[[10, 20, 30], [40, 50, 60], [70, 80, 90], [100]]`. Create a flattened list using nested list comprehension.\n",
    "\n",
    "(b) Consider the list `[[10, 20, 30], [40, 50, 60], [70, 80, 90], [100]]`. Create a flattened list using nested list comprehension by only considering elements from inner lists if the number of elements is greater than 1, i.e., do not include 100.\n",
    "\n",
    "(c) Consider the following dict:\n",
    "\n",
    "`{'Apple':[500, 750, 560, 800], \n",
    " 'Microsoft':[700, 500, 750, 650], \n",
    " 'Google':[750, 580, 720, 820], \n",
    " 'Facebook':[700, 820, 750, 980] }`\n",
    "\n",
    "Define a function `average` that takes a list of values and returns the average value of the items in the list. Now, create a dictionary using dictionary comprehension and the `average` function such that the new dict contains the same keys as the original dict and the average of the item values in the original dict as the item values in the new dict.\n",
    "\n",
    "(d) Using the following definition of the `reduce` function, create another version of the function `average`, say `average2` and repeat part (c). You should use a `lambda` anonymous function (see [some examples](http://book.pythontips.com/en/latest/lambdas.html)) as an input to the `reduce` function. Refer to [example shown here](http://book.pythontips.com/en/latest/map_filter.html) or the [documentation of reduce](https://docs.python.org/3/library/functools.html?highlight=reduce#functools.reduce).\n",
    "> The `reduce(fun,seq)` function is used to apply a particular function passed in its argument to all of the list elements mentioned in the sequence passed along.This function is defined in `functools` module (need to import it).\n",
    "\n",
    "(e) A generator expression creates a generator. Use a generator expression to create the same dictionary as in parts (c) and (d) using an expression of the form `dict()` where the generator expression is the input to the `dict()` function. Refer to [some examples of generator expressions](https://chrisalbon.com/python/basics/generator_expressions/) and [additional explanation](http://book.pythontips.com/en/latest/generators.html) to see how they work."
   ]
  },
  {
   "cell_type": "code",
   "execution_count": null,
   "metadata": {},
   "outputs": [],
   "source": []
  }
 ],
 "metadata": {
  "kernelspec": {
   "display_name": "Python 3.6",
   "language": "python",
   "name": "python36"
  },
  "language_info": {
   "codemirror_mode": {
    "name": "ipython",
    "version": 3
   },
   "file_extension": ".py",
   "mimetype": "text/x-python",
   "name": "python",
   "nbconvert_exporter": "python",
   "pygments_lexer": "ipython3",
   "version": "3.6.3"
  }
 },
 "nbformat": 4,
 "nbformat_minor": 2
}
