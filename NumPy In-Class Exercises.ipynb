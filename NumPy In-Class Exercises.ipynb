{
 "cells": [
  {
   "cell_type": "markdown",
   "metadata": {},
   "source": [
    "# `NumPy` : In-Class Exercises"
   ]
  },
  {
   "cell_type": "markdown",
   "metadata": {},
   "source": [
    "Author: Amit Deokar, Ph.D.\n",
    "\n",
    "Created to supplement Chapter 4 (NumPy Basics) \"Pandas for Data Analysis\" book by Wes McKinney.\n",
    "\n",
    "## What is NumPy?\n",
    "- One of the key data packages for scientific computing in Python.\n",
    "- Contains functionality for multidimensional arrays\n",
    "- Contains high-level math functions such as linear algebra operations, Fourier transform, and pseudo random number generators."
   ]
  },
  {
   "cell_type": "code",
   "execution_count": 2,
   "metadata": {},
   "outputs": [],
   "source": [
    "import numpy as np\n",
    "np.random.seed(12345)\n",
    "np.set_printoptions(precision=4, suppress=True)"
   ]
  },
  {
   "cell_type": "code",
   "execution_count": 3,
   "metadata": {},
   "outputs": [],
   "source": [
    "import matplotlib.pyplot as plt\n",
    "plt.rc('figure', figsize=(10, 6))\n",
    "%matplotlib inline"
   ]
  },
  {
   "cell_type": "markdown",
   "metadata": {},
   "source": [
    "## What is a NumPy array,  a.k.a. `ndarray`?\n",
    "- Fundamental data structure, which is the basis of `scikit-learn` Python library used for machine learning.\n",
    "- `scikit-learn` takes in data in the form of NumPy arrays.\n",
    "- An `ndarray` has n dimensions and all elements of the array **must** be of the same type.\n",
    "- Extremely efficient data structure: complex computations on entire arrays can be done with NumPy without the need for Python for loops."
   ]
  },
  {
   "cell_type": "markdown",
   "metadata": {},
   "source": [
    "## Creating NumPy arrays"
   ]
  },
  {
   "cell_type": "code",
   "execution_count": 17,
   "metadata": {},
   "outputs": [
    {
     "data": {
      "text/plain": [
       "array([[1, 2, 3],\n",
       "       [4, 5, 6]])"
      ]
     },
     "execution_count": 17,
     "metadata": {},
     "output_type": "execute_result"
    }
   ],
   "source": [
    "arr2d = np.array([[1, 2, 3], [4, 5, 6]])\n",
    "arr2d"
   ]
  },
  {
   "cell_type": "code",
   "execution_count": 18,
   "metadata": {},
   "outputs": [
    {
     "data": {
      "text/plain": [
       "(2, 3)"
      ]
     },
     "execution_count": 18,
     "metadata": {},
     "output_type": "execute_result"
    }
   ],
   "source": [
    "arr2d.shape"
   ]
  },
  {
   "cell_type": "code",
   "execution_count": 19,
   "metadata": {},
   "outputs": [
    {
     "data": {
      "text/plain": [
       "6"
      ]
     },
     "execution_count": 19,
     "metadata": {},
     "output_type": "execute_result"
    }
   ],
   "source": [
    "arr2d.size"
   ]
  },
  {
   "cell_type": "code",
   "execution_count": 8,
   "metadata": {},
   "outputs": [],
   "source": [
    "# a list and a ndarray of 10 million numbers compared\n",
    "my_arr = np.arange(10000000)\n",
    "my_list = list(range(10000000))"
   ]
  },
  {
   "cell_type": "code",
   "execution_count": 11,
   "metadata": {},
   "outputs": [
    {
     "name": "stdout",
     "output_type": "stream",
     "text": [
      "CPU times: user 167 ms, sys: 258 ms, total: 425 ms\n",
      "Wall time: 425 ms\n"
     ]
    }
   ],
   "source": [
    "%time for _ in range(10): my_arr2 = my_arr * 2"
   ]
  },
  {
   "cell_type": "code",
   "execution_count": 12,
   "metadata": {},
   "outputs": [
    {
     "name": "stdout",
     "output_type": "stream",
     "text": [
      "CPU times: user 6.17 s, sys: 2.14 s, total: 8.31 s\n",
      "Wall time: 8.32 s\n"
     ]
    }
   ],
   "source": [
    "%time for _ in range(10): my_list2 = [x * 2 for x in my_list]"
   ]
  },
  {
   "cell_type": "markdown",
   "metadata": {},
   "source": [
    "## 1. Exercise\n",
    "\n",
    "(a) Create a 1-dimentionsional NumPy array with the following list of numbers:\n",
    "`[11, 12, 13, 14, 15, 16, 17, 18, 19, 20, 21, 22]`\n",
    "\n",
    "(b) Convert it into a 3-dimensional NumPy array structured as follows:\n",
    "```\n",
    "array([[[11, 12, 13],\n",
    "        [14, 15, 16]],\n",
    "\n",
    "       [[17, 18, 19],\n",
    "        [20, 21, 22]]])\n",
    "```\n",
    "\n",
    "(c) Create the above 3-dimensional NumPy array from scratch without converting.\n",
    "\n",
    "**Hint**: Refer to [The N-dimensional array](https://docs.scipy.org/doc/numpy-1.14.0/reference/arrays.ndarray.html) documentation."
   ]
  },
  {
   "cell_type": "code",
   "execution_count": null,
   "metadata": {},
   "outputs": [],
   "source": []
  },
  {
   "cell_type": "markdown",
   "metadata": {},
   "source": [
    "## 2. Exercise\n",
    "\n",
    "(a) Change the first element of the 3-dimensional array created earlier to 1.\n",
    "\n",
    "(b) Create a new 3-dimensional array of shape (2, 3, 2) consisting of all ones.\n",
    "\n",
    "(c) Create a new 3-dimensional array of shape (3, 3, 2) consisting of all zeros.\n",
    "\n",
    "(d) Create a new 2-dimensional 3x3 array consisting of all 2's.\n",
    "\n",
    "(e) Create a new 2-dimensional 3x3 array filled with all random values.\n",
    "\n",
    "(f) Create a new 2-dimensional 3x3 identity matrix."
   ]
  },
  {
   "cell_type": "code",
   "execution_count": null,
   "metadata": {},
   "outputs": [],
   "source": []
  },
  {
   "cell_type": "markdown",
   "metadata": {},
   "source": [
    "## NumPy Data Types Examples"
   ]
  },
  {
   "cell_type": "markdown",
   "metadata": {},
   "source": [
    "## 3. Exercise\n",
    "\n",
    "(a) Create an array of numbers from 0 to 9 using `arange` function.\n",
    "\n",
    "(b) Change the data type of the array to float data type.\n",
    "\n",
    "(c) Create an array consisting of the following 10 numbers and convert it to integer data type.\n",
    "`[10.1, 9.2, 8.3, 7.4, 6.2, 5.2, 4.7, 3.2, 2.1, 1.0]`\n",
    "\n",
    "(d) Create an array consisting of the following strings. Then convert them into a numeric array.\n",
    "`['1.75', '1.25', '3.45', '4.50', '5.25']`\n",
    "\n",
    "**Hint**: Refer to [`astype`](https://docs.scipy.org/doc/numpy-1.14.0/reference/generated/numpy.ndarray.astype.html), which copies the array by casting it to a specified type."
   ]
  },
  {
   "cell_type": "code",
   "execution_count": null,
   "metadata": {},
   "outputs": [],
   "source": []
  },
  {
   "cell_type": "markdown",
   "metadata": {},
   "source": [
    "## NumPy Arithmetic"
   ]
  },
  {
   "cell_type": "markdown",
   "metadata": {},
   "source": [
    "## 4. Exercise\n",
    "\n",
    "(a) Create the following arrays using one-line statements each by using `arange` and `reshape` in conjunction: \n",
    "\n",
    "`array([[ 1,  3,  5],\n",
    "       [ 7,  9, 11],\n",
    "       [13, 15, 17]])`\n",
    "       \n",
    " `array([[ 2,  4,  6],\n",
    "       [ 8, 10, 12],\n",
    "       [14, 16, 18]])`   \n",
    "\n",
    "(b) Perform element-wise multiplication of the two arrays.\n",
    "\n",
    "(c) Perform dot product of the two arrays.\n",
    "\n",
    "(d) Perform cross product of the two arrays.\n",
    "\n",
    "**Hint**: Refer to [Mathematical functions](https://docs.scipy.org/doc/numpy-1.14.0/reference/routines.math.html)"
   ]
  },
  {
   "cell_type": "code",
   "execution_count": null,
   "metadata": {},
   "outputs": [],
   "source": []
  },
  {
   "cell_type": "markdown",
   "metadata": {},
   "source": [
    "## Basic Indexing and Slicing - Indexing 1-d arrays"
   ]
  },
  {
   "cell_type": "markdown",
   "metadata": {},
   "source": [
    "## 5. Exercise\n",
    "\n",
    "(a) Create the following array using a one-line statement by using `arange`: \n",
    "\n",
    "`array([ 1,  3,  5,  7,  9, 11, 13, 15, 17])`\n",
    "       \n",
    "(b) Slice the 3rd through the 6th (included) elements in the array and assign it to a new variable. (**Hint**: slicing 1-d arrays is similar to Python lists)\n",
    "\n",
    "(c) Slice the 3rd through the 6th (included) elements in the array using negative indices and assign it to a new variable. (**Hint**: slicing 1-d arrays is similar to Python lists)\n",
    "\n",
    "(d) Assign the value 1 to the last two elements in the array slice created in part(b) using **broadcasting**.\n",
    "\n",
    "(e) Check the value of the original array created in part (a). Is it the same as before? Why or Why not?\n",
    "\n",
    "(f) Create a new copy (explicitly) of the slice created in part (b). Modify the first value of the new copy to 2. Does the original slice change?"
   ]
  },
  {
   "cell_type": "code",
   "execution_count": null,
   "metadata": {},
   "outputs": [],
   "source": []
  },
  {
   "cell_type": "markdown",
   "metadata": {},
   "source": [
    "## Basic Indexing and Slicing - Indexing higher dimensional arrays"
   ]
  },
  {
   "cell_type": "markdown",
   "metadata": {},
   "source": [
    "## 6. Exercise\n",
    "\n",
    "(a) Create the following 2-dimensional array using a one-line statement using `arange` and `reshape`: \n",
    "\n",
    "`array([[ 1,  3,  5,  7] , [9, 11, 13, 15]])`\n",
    "\n",
    "(b) Access the 3rd element from the 1st row of the array using integer indexes.\n",
    "\n",
    "(c) Change all the elements in the first row to 1's using broadcasting assignment.\n",
    "\n",
    "(d) Change the last two elements of the first and second rows to 0's by indexing with slices."
   ]
  },
  {
   "cell_type": "code",
   "execution_count": null,
   "metadata": {},
   "outputs": [],
   "source": []
  },
  {
   "cell_type": "markdown",
   "metadata": {},
   "source": [
    "## Boolean Indexing"
   ]
  },
  {
   "cell_type": "markdown",
   "metadata": {},
   "source": [
    "## 7. Exercise\n",
    "\n",
    "(a) Create the following 2-dimensional array using a one-line statement using `arange` and `reshape`: \n",
    "\n",
    "`array([[ 1,  3,  5,  7],\n",
    "       [ 9, 11, 13, 15],\n",
    "       [17, 19, 21, 23],\n",
    "       [25, 27, 29, 31],\n",
    "       [33, 35, 37, 39]])`\n",
    "\n",
    "(b) Create an array called `cities` of strings as follows:\n",
    "\n",
    "`array(['Mumbai', 'Shanghai', 'New York', 'London', 'Paris'])`\n",
    "\n",
    "(c) Create a boolean array from the above array where the city value is either `London` or `Shanghai`, and assign it to a variable called `mask`.\n",
    "\n",
    "(d) Use the boolean array created in part (c) to subselect rows of the array in part (a).\n",
    "\n",
    "(e) Change the last columns in the original array created in part(a) to 0, only case of rows selected by the boolean array."
   ]
  },
  {
   "cell_type": "code",
   "execution_count": null,
   "metadata": {},
   "outputs": [],
   "source": []
  },
  {
   "cell_type": "markdown",
   "metadata": {},
   "source": [
    "## Fancy Indexing - Indexing with integer arrays"
   ]
  },
  {
   "cell_type": "markdown",
   "metadata": {},
   "source": [
    "## 8. Exercise\n",
    "\n",
    "(a) Create the following 2-dimensional array using a one-line statement using `arange` and `reshape`: \n",
    "\n",
    "`array([[ 1,  3,  5,  7],\n",
    "       [ 9, 11, 13, 15],\n",
    "       [17, 19, 21, 23],\n",
    "       [25, 27, 29, 31],\n",
    "       [33, 35, 37, 39]])`\n",
    "\n",
    "(b) Retrieve the elements from the above array at the index locations (4, 1), (2, 3) and (0, 0) using fancy indexing."
   ]
  },
  {
   "cell_type": "code",
   "execution_count": null,
   "metadata": {},
   "outputs": [],
   "source": []
  },
  {
   "cell_type": "markdown",
   "metadata": {},
   "source": [
    "## Unary `ufuncs`, Binary Universal Functions, Mathematical Functions, and Linear Algebra\n",
    "\n",
    "> A **ufunc** or **universal function** is a function that performs element-wise operations on data in ndarrays. \n",
    "\n",
    "> Think of them as fast vectorized wrappers for simple functions that take one or more scalar values and produce one or more scalar results."
   ]
  },
  {
   "cell_type": "markdown",
   "metadata": {},
   "source": [
    "## 9. Exercise\n",
    "\n",
    "(a) Create the following 2-dimensional array using a one-line statement using `arange` and `reshape`: \n",
    "\n",
    "`array([[ 1,  3,  5,  7],\n",
    "       [ 9, 11, 13, 15],\n",
    "       [17, 19, 21, 23],\n",
    "       [25, 27, 29, 31],\n",
    "       [33, 35, 37, 39]])`\n",
    "\n",
    "(b) Compute the element-wise square root for the above array.\n",
    "\n",
    "**Hint**: Refer to [Universal Functions](https://docs.scipy.org/doc/numpy/reference/ufuncs.html)\n",
    "\n",
    "(c) Create the following 2-dimensional array using a one-line statement using `arange` and `reshape`: \n",
    "\n",
    "`array([[ 2,  4, 6,  8],\n",
    "       [ 10, 12, 14, 16],\n",
    "       [18, 20, 22, 24],\n",
    "       [26, 28, 30, 32],\n",
    "       [34, 36, 38, 40]])`\n",
    "       \n",
    "Then compute the element-wise multiplication of this array and the array created in part (a).\n",
    "\n",
    "**Hint**: Refer to [Universal Functions](https://docs.scipy.org/doc/numpy/reference/ufuncs.html)\n",
    "\n",
    "(d) Compute the mean of the elements of the array created in part (c).\n",
    "\n",
    "(e) Compute the mean of the rows of the array created in part (c).\n",
    "\n",
    "**Hint**: Refer to [Mathematical Functions](https://docs.scipy.org/doc/numpy/reference/routines.math.html)"
   ]
  },
  {
   "cell_type": "code",
   "execution_count": null,
   "metadata": {},
   "outputs": [],
   "source": []
  },
  {
   "cell_type": "markdown",
   "metadata": {},
   "source": [
    "## Pseduo-Random Number Generation - Very fast"
   ]
  },
  {
   "cell_type": "markdown",
   "metadata": {},
   "source": [
    "### Comparison of NumPy with Python's builtin random module"
   ]
  },
  {
   "cell_type": "code",
   "execution_count": 182,
   "metadata": {},
   "outputs": [
    {
     "name": "stdout",
     "output_type": "stream",
     "text": [
      "1.52 s ± 225 ms per loop (mean ± std. dev. of 7 runs, 1 loop each)\n"
     ]
    }
   ],
   "source": [
    "# Python's built-in random module\n",
    "from random import normalvariate\n",
    "N = 1000000\n",
    "%timeit samples = [normalvariate(0, 1) for _ in range(N)]"
   ]
  },
  {
   "cell_type": "code",
   "execution_count": 183,
   "metadata": {},
   "outputs": [
    {
     "name": "stdout",
     "output_type": "stream",
     "text": [
      "60.4 ms ± 6.19 ms per loop (mean ± std. dev. of 7 runs, 10 loops each)\n"
     ]
    }
   ],
   "source": [
    "N = 1000000\n",
    "%timeit np.random.normal(size=N)"
   ]
  },
  {
   "cell_type": "markdown",
   "metadata": {},
   "source": [
    "## 10. Exercise\n",
    "\n",
    "(a) Create a 3x3 array by drawing a random sample from a normal distribution with mean 25 and standard deviation 5. \n",
    "\n",
    "(b) Check the mean and standard deviation of the random sample created.\n",
    "\n",
    "**Hint**: Refer to [Random Sampling](https://docs.scipy.org/doc/numpy/reference/routines.random.html)"
   ]
  },
  {
   "cell_type": "code",
   "execution_count": null,
   "metadata": {},
   "outputs": [],
   "source": []
  }
 ],
 "metadata": {
  "kernelspec": {
   "display_name": "Python 3.6",
   "language": "python",
   "name": "python36"
  },
  "language_info": {
   "codemirror_mode": {
    "name": "ipython",
    "version": 3
   },
   "file_extension": ".py",
   "mimetype": "text/x-python",
   "name": "python",
   "nbconvert_exporter": "python",
   "pygments_lexer": "ipython3",
   "version": "3.6.3"
  }
 },
 "nbformat": 4,
 "nbformat_minor": 2
}
